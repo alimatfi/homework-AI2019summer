{
 "cells": [
  {
   "cell_type": "markdown",
   "metadata": {},
   "source": [
    "## 1. 实现`print`函数\n",
    "定义一个函数`print_string`，返回一个字符串。  \n",
    "`print_string`函数支持输入多个参数，每个参数间使用参数`sep`(默认一个空格)的字符进行连接，并且最后还要添加一个`end`(默认一个换行)参数的字符。  \n",
    "比如\n",
    "- `print_string('This is a test')` 返回`This is a test\\n`  \n",
    "- `print_string('This', 'is', 'a', 'test')` 返回`This is a test\\n`\n",
    "- `print_string('This', 'is', 'a', 'test', sep = '-')` 返回`This-is-a-test\\n`\n",
    "- `print_string('This', 'is', 'a', 'test', ',', 'Yes', sep = '_', end = '.')` 返回`This_is_a_test_,_Yes.`"
   ]
  },
  {
   "cell_type": "code",
   "execution_count": 13,
   "metadata": {},
   "outputs": [
    {
     "name": "stdout",
     "output_type": "stream",
     "text": [
      "<function print_string at 0x10d024840>\n",
      "This is a test \n",
      "\n",
      "This is a test \n",
      "\n",
      "This-is-a-test-\n",
      "\n",
      "This_is_a_test_,_Yes_.\n"
     ]
    }
   ],
   "source": [
    "def print_string(*strings,sep=' ',end='\\n'):\n",
    "    text=''\n",
    "    for string in strings:\n",
    "        text=text+str(string)+sep\n",
    "    return text+end\n",
    "print(print_string)\n",
    "print(print_string(('This is a test')))\n",
    "print(print_string('This', 'is', 'a', 'test'))\n",
    "print(print_string('This', 'is', 'a', 'test', sep = '-') )\n",
    "print(print_string('This', 'is', 'a', 'test', ',', 'Yes', sep = '_', end = '.') )\n",
    "    "
   ]
  },
  {
   "cell_type": "markdown",
   "metadata": {},
   "source": [
    "## 2. 打印斐波那契数列\n",
    "以三种方式打印波那契数列    \n",
    "给定一个数值n，将前n项的波那契数列打印出来"
   ]
  },
  {
   "cell_type": "code",
   "execution_count": null,
   "metadata": {},
   "outputs": [],
   "source": [
    "斐波那契数列通项公式的三种解法，看起来好复杂啊。（办不到哦）只会递推了。"
   ]
  },
  {
   "cell_type": "code",
   "execution_count": 38,
   "metadata": {},
   "outputs": [
    {
     "name": "stdout",
     "output_type": "stream",
     "text": [
      "请问需要多少项的斐波那契数列9\n",
      "[1, 1, 2, 3, 5, 8, 13, 21, 34]\n"
     ]
    }
   ],
   "source": [
    "n=int(input('请问需要多少项的斐波那契数列'))\n",
    "fibo=[]\n",
    "if n==1:\n",
    "    fibo=[1]\n",
    "elif n==2:\n",
    "    fibo=[1,1]\n",
    "else:\n",
    "    fibo.append(1)\n",
    "    fibo.append(1)\n",
    "    for i in range(2,n):\n",
    "        num_i=fibo[i-1]+fibo[i-2]\n",
    "        fibo.append(num_i)\n",
    "print(fibo) "
   ]
  },
  {
   "cell_type": "code",
   "execution_count": 39,
   "metadata": {},
   "outputs": [
    {
     "name": "stdout",
     "output_type": "stream",
     "text": [
      "请问需要多少项的斐波那契数列8\n",
      "[1, 1, 2, 3, 5, 8, 13, 21]\n"
     ]
    }
   ],
   "source": [
    "n=int(input('请问需要多少项的斐波那契数列'))\n",
    "fibo=[1,1]\n",
    "for i in range(2,10000):\n",
    "    num_i=fibo[i-1]+fibo[i-2]\n",
    "    fibo.append(num_i)\n",
    "print([fibo[i] for i in range(n)])"
   ]
  },
  {
   "cell_type": "code",
   "execution_count": 44,
   "metadata": {},
   "outputs": [
    {
     "name": "stdout",
     "output_type": "stream",
     "text": [
      "请问需要多少项的斐波那契数列9\n",
      "[1, 1, 2, 3, 5, 8, 13, 21, 34]\n"
     ]
    }
   ],
   "source": [
    "n=int(input('请问需要多少项的斐波那契数列'))\n",
    "if n==1:\n",
    "    fibo=[1]\n",
    "elif n==2:\n",
    "    fibo=[1,1]\n",
    "else:\n",
    "    fibo=[1,1]\n",
    "    i=0\n",
    "    while i<=n-3:\n",
    "        num=fibo[i]+fibo[i+1]\n",
    "        fibo.append(num)\n",
    "        i+=1    \n",
    "print(fibo)\n",
    "    "
   ]
  },
  {
   "cell_type": "markdown",
   "metadata": {},
   "source": [
    "不会使用notebook，使用作业.PDF文件查看作业，上传.py文件"
   ]
  }
 ],
 "metadata": {
  "kernelspec": {
   "display_name": "Python 3",
   "language": "python",
   "name": "python3"
  },
  "language_info": {
   "codemirror_mode": {
    "name": "ipython",
    "version": 3
   },
   "file_extension": ".py",
   "mimetype": "text/x-python",
   "name": "python",
   "nbconvert_exporter": "python",
   "pygments_lexer": "ipython3",
   "version": "3.6.5"
  }
 },
 "nbformat": 4,
 "nbformat_minor": 4
}
